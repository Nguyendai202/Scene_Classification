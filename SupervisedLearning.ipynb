{
 "cells": [
  {
   "cell_type": "markdown",
   "metadata": {},
   "source": [
    "Scene Classification\n",
    "\n",
    "Để làm quen với việc sử dụng các mô hình phân loại (KNN, Decision Tree, SVM) ,Bộ dữ liệu sử dụng trong bài toán là Scene-15. "
   ]
  },
  {
   "cell_type": "code",
   "execution_count": 1,
   "metadata": {
    "collapsed": true,
    "jupyter": {
     "outputs_hidden": true
    }
   },
   "outputs": [],
   "source": [
    "import numpy as np\n",
    "import sklearn\n",
    "import pickle"
   ]
  },
  {
   "cell_type": "markdown",
   "metadata": {},
   "source": [
    "Trong thư mục bài tập này có 2 files chứa tập dữ liệu: file features.dump chứa các vector đặc trưng trích xuất từ bộ dữ liệu Scene-15, file labels.dump chứa nhãn tương ứng (gồm 15 nhãn):"
   ]
  },
  {
   "cell_type": "code",
   "execution_count": 2,
   "metadata": {
    "collapsed": false,
    "jupyter": {
     "outputs_hidden": false
    }
   },
   "outputs": [
    {
     "name": "stdout",
     "output_type": "stream",
     "text": [
      "<class 'numpy.ndarray'>\n",
      "<class 'numpy.ndarray'>\n",
      "(4485, 1600)\n",
      "(4485,)\n"
     ]
    }
   ],
   "source": [
    "features = np.array(pickle.load(open('features.dump', 'rb')))\n",
    "labels = np.array(pickle.load(open('labels.dump', 'rb')))\n",
    "\n",
    "print(type(features))\n",
    "print(type(labels))\n",
    "\n",
    "print(features.shape)\n",
    "print(labels.shape)"
   ]
  },
  {
   "cell_type": "markdown",
   "metadata": {},
   "source": [
    "Tiếp theo ta thực hiện một bước tiền xử lý đơn giản, đó là normalize dữ liệu: z = (x-u)/s"
   ]
  },
  {
   "cell_type": "code",
   "execution_count": 3,
   "metadata": {
    "collapsed": false,
    "jupyter": {
     "outputs_hidden": false
    }
   },
   "outputs": [
    {
     "name": "stdout",
     "output_type": "stream",
     "text": [
      "[0.04840777 0.05592526 0.06561723 ... 0.05357086 0.050353   0.04555832]\n",
      "[0.05357732 0.0567876  0.05932581 ... 0.0338027  0.03444253 0.03173965]\n",
      "[ 4.20752248e-16 -3.38017735e-16  2.60258803e-16 ... -1.17239923e-15\n",
      " -5.20007052e-15 -3.80270570e-15]\n",
      "[1. 1. 1. ... 1. 1. 1.]\n"
     ]
    }
   ],
   "source": [
    "from sklearn.preprocessing import StandardScaler\n",
    "scaler = StandardScaler()\n",
    "print(np.mean(features, axis=0))\n",
    "print(np.std(features, axis=0))\n",
    "features = scaler.fit_transform(features)\n",
    "print(np.mean(features, axis=0))\n",
    "print(np.std(features, axis=0))"
   ]
  },
  {
   "cell_type": "markdown",
   "metadata": {},
   "source": [
    "Ta có thể thấy rằng bộ dữ liệu gồm 4485 mẫu dữ liệu. Mảng features là một ma trận 2 chiều kích thước 4485 x 960. Mỗi hàng của ma trận này là một vector đặc trưng 960 chiều (sử dụng đặc trưng GIST) của một ảnh. Mảng labels là một vector gồm 4485 phần tử, mỗi phần tử là một số nguyên trong khoảng [0, 14] miêu tả nhãn của mẫu tương ứng trong mảng features.\n",
    "\n",
    "Ta sẽ chia tập dữ liệu thành 2 phần: tập dữ liệu huấn luyện (training set) và tập dữ liệu kiểm tra (testing set):"
   ]
  },
  {
   "cell_type": "code",
   "execution_count": 4,
   "metadata": {
    "collapsed": false,
    "jupyter": {
     "outputs_hidden": false
    }
   },
   "outputs": [
    {
     "name": "stdout",
     "output_type": "stream",
     "text": [
      "Number of training data:  3588\n",
      "Number of testing data:  897\n"
     ]
    }
   ],
   "source": [
    "from sklearn.model_selection import train_test_split\n",
    "x_train, x_test,  y_train, y_test = train_test_split(features, labels, test_size=0.2)\n",
    "print('Number of training data: ', x_train.shape[0])\n",
    "print('Number of testing data: ', x_test.shape[0])"
   ]
  },
  {
   "cell_type": "markdown",
   "metadata": {},
   "source": [
    "Thống kê dữ liệu\n",
    "\n",
    "Việc chia tập dữ liệu thành 2 phần (training set và testing set) là hiệu quả nếu như phân bố dữ liệu ở các lớp của 2 tập và toàn bộ dữ liệu là tương đồng nhau. Hãy viết hàm statistic(y) dưới đây, nhận đầu vào là vector label của tập training hoặc testing, hàm trả về một vector gồm 15 phần tử tương ứng là số lượng mẫu dữ liệu thuộc từng lớp của bài toán:"
   ]
  },
  {
   "cell_type": "code",
   "execution_count": 7,
   "metadata": {
    "collapsed": true,
    "jupyter": {
     "outputs_hidden": true
    }
   },
   "outputs": [],
   "source": [
    "\n",
    "def statistic(y):\n",
    "    count = np.zeros(15)\n",
    "    for i in range(y.shape[0]):\n",
    "        count[y[i]]+=1\n",
    "    return count\n",
    "\n",
    "#Ví dụ: nếu y = [0, 1, 0, 2, 3, 1], thì hàm statistic(y) sẽ trả về mảng [2, 2, 1, 1, 0, 0, 0, 0, 0, 0, 0, 0, 0, 0, 0]."
   ]
  },
  {
   "cell_type": "code",
   "execution_count": 8,
   "metadata": {
    "collapsed": false,
    "jupyter": {
     "outputs_hidden": false
    }
   },
   "outputs": [
    {
     "data": {
      "image/png": "[encoded data removed]",
      "text/plain": [
       "<Figure size 640x480 with 3 Axes>"
      ]
     },
     "metadata": {},
     "output_type": "display_data"
    }
   ],
   "source": [
    "c_train = statistic(y_train)\n",
    "c_test = statistic(y_test)\n",
    "c_all = statistic(labels)\n",
    "\n",
    "import matplotlib.pyplot as plt\n",
    "\n",
    "plt.subplot(3, 1, 1), plt.bar(range(15), c_train, align='center', alpha=0.5)\n",
    "plt.subplot(3, 1, 2), plt.bar(range(15), c_test, align='center', alpha=0.5)\n",
    "plt.subplot(3, 1, 3), plt.bar(range(15), c_all, align='center', alpha=0.5)\n",
    "plt.show()"
   ]
  },
  {
   "cell_type": "markdown",
   "metadata": {},
   "source": [
    "II.Xây dựng các bộ phân loại sử dụng sklearn\n",
    "\n",
    " ta sẽ xây dựng các bộ phân loại KNN, Decision Tree, SVM cho bộ dữ liệu đề cập ở trên:"
   ]
  },
  {
   "cell_type": "code",
   "execution_count": 9,
   "metadata": {
    "collapsed": true,
    "jupyter": {
     "outputs_hidden": true
    }
   },
   "outputs": [],
   "source": [
    "from sklearn.neighbors import KNeighborsClassifier\n",
    "from sklearn.tree import DecisionTreeClassifier\n",
    "from sklearn.svm import SVC\n",
    "\n",
    "from sklearn.model_selection import GridSearchCV"
   ]
  },
  {
   "cell_type": "code",
   "execution_count": 10,
   "metadata": {
    "collapsed": false,
    "jupyter": {
     "outputs_hidden": false
    }
   },
   "outputs": [
    {
     "name": "stdout",
     "output_type": "stream",
     "text": [
      "KNeighborsClassifier(algorithm='kd_tree', n_neighbors=2)\n"
     ]
    },
    {
     "data": {
      "text/plain": [
       "0.45261984392419174"
      ]
     },
     "execution_count": 10,
     "metadata": {},
     "output_type": "execute_result"
    }
   ],
   "source": [
    "knn = KNeighborsClassifier(n_neighbors=2, algorithm='kd_tree')\n",
    "print(knn)\n",
    "\n",
    "knn.fit(x_train, y_train)\n",
    "knn.score(x_test, y_test)"
   ]
  },
  {
   "cell_type": "markdown",
   "metadata": {},
   "source": [
    "Ngoài ra, ta có thể sử dụng phương pháp GridSearchCV để tìm kiếm hyper parameter tốt nhất cho mô hình:"
   ]
  },
  {
   "cell_type": "code",
   "execution_count": 16,
   "metadata": {
    "collapsed": false,
    "jupyter": {
     "outputs_hidden": false
    }
   },
   "outputs": [
    {
     "name": "stdout",
     "output_type": "stream",
     "text": [
      "GridSearchCV(cv=4, estimator=KNeighborsClassifier(), n_jobs=4,\n",
      "             param_grid={'n_neighbors': [1, 2, 3, 4, 5]})\n"
     ]
    },
    {
     "data": {
      "text/plain": [
       "0.48494983277591974"
      ]
     },
     "execution_count": 16,
     "metadata": {},
     "output_type": "execute_result"
    }
   ],
   "source": [
    "knn = KNeighborsClassifier()\n",
    "\n",
    "# Parameter list for grid searching\n",
    "param = {'n_neighbors': [1, 2, 3, 4, 5]}\n",
    "gs = GridSearchCV(estimator=knn, param_grid=param, cv=4, n_jobs=4)\n",
    "# cv = fold crossvali , n_job= số luồng tính toán đa luồng\n",
    "print(gs)\n",
    "\n",
    "gs.fit(x_train, y_train)\n",
    "gs.score(x_test, y_test)\n"
   ]
  },
  {
   "cell_type": "markdown",
   "metadata": {},
   "source": [
    "Tham số tốt nhất của mô hình:"
   ]
  },
  {
   "cell_type": "code",
   "execution_count": 18,
   "metadata": {
    "collapsed": false,
    "jupyter": {
     "outputs_hidden": false
    }
   },
   "outputs": [
    {
     "data": {
      "text/plain": [
       "{'n_neighbors': 1}"
      ]
     },
     "execution_count": 18,
     "metadata": {},
     "output_type": "execute_result"
    }
   ],
   "source": [
    "\n",
    "gs.best_params_"
   ]
  },
  {
   "cell_type": "markdown",
   "metadata": {},
   "source": [
    "Thử lại với class KNN trong sklearn. So sánh kết quả:"
   ]
  },
  {
   "cell_type": "code",
   "execution_count": 22,
   "metadata": {
    "collapsed": false,
    "jupyter": {
     "outputs_hidden": false
    }
   },
   "outputs": [
    {
     "data": {
      "text/plain": [
       "0.48494983277591974"
      ]
     },
     "execution_count": 22,
     "metadata": {},
     "output_type": "execute_result"
    }
   ],
   "source": [
    "\n",
    "knn_new = KNeighborsClassifier(n_neighbors=1)\n",
    "knn_new.fit(x_train,y_train)\n",
    "knn_new.score(x_test,y_test)"
   ]
  },
  {
   "cell_type": "markdown",
   "metadata": {},
   "source": [
    "Decision Tree\n",
    "Tương tự như KNN,  xây dựng bộ phân loại sử dụng Decision Tree:"
   ]
  },
  {
   "cell_type": "code",
   "execution_count": 23,
   "metadata": {
    "collapsed": false,
    "jupyter": {
     "outputs_hidden": false
    }
   },
   "outputs": [
    {
     "name": "stdout",
     "output_type": "stream",
     "text": [
      "DecisionTreeClassifier()\n",
      "0.999721293199554\n",
      "0.3377926421404682\n"
     ]
    }
   ],
   "source": [
    "\n",
    "dt = DecisionTreeClassifier()\n",
    "print(dt)\n",
    "dt.fit(x_train, y_train)\n",
    "print(dt.score(x_train, y_train))\n",
    "print(dt.score(x_test, y_test))\n"
   ]
  },
  {
   "cell_type": "markdown",
   "metadata": {},
   "source": [
    "Sử dụng GridSearchCV, tìm kiếm các hyper parameter:"
   ]
  },
  {
   "cell_type": "code",
   "execution_count": 24,
   "metadata": {
    "collapsed": false,
    "jupyter": {
     "outputs_hidden": false
    }
   },
   "outputs": [
    {
     "name": "stdout",
     "output_type": "stream",
     "text": [
      "GridSearchCV(cv=4, estimator=DecisionTreeClassifier(), n_jobs=4,\n",
      "             param_grid={'criterion': ['gini', 'entropy'],\n",
      "                         'min_samples_leaf': [1, 5, 10],\n",
      "                         'splitter': ['best', 'random']})\n"
     ]
    },
    {
     "data": {
      "text/plain": [
       "0.3500557413600892"
      ]
     },
     "execution_count": 24,
     "metadata": {},
     "output_type": "execute_result"
    }
   ],
   "source": [
    "\n",
    "dt = DecisionTreeClassifier()\n",
    "param = {'criterion': ['gini', 'entropy'], 'splitter': ['best', 'random'], 'min_samples_leaf': [1, 5, 10]}\n",
    "# gini = CART, entropy=ID3, splitter= phương pháp chia nhánh , min_samples_leaf = số lượng data tối thiểu cần có trong 1 lá \n",
    "gs = GridSearchCV(estimator=dt, param_grid=param, cv=4, n_jobs=4)\n",
    "print(gs)\n",
    "\n",
    "gs.fit(x_train, y_train)\n",
    "gs.score(x_test, y_test)\n"
   ]
  },
  {
   "cell_type": "markdown",
   "metadata": {},
   "source": [
    "Tham số tốt nhất của mô hình:"
   ]
  },
  {
   "cell_type": "code",
   "execution_count": 25,
   "metadata": {
    "collapsed": false,
    "jupyter": {
     "outputs_hidden": false
    }
   },
   "outputs": [
    {
     "data": {
      "text/plain": [
       "{'criterion': 'entropy', 'min_samples_leaf': 10, 'splitter': 'best'}"
      ]
     },
     "execution_count": 25,
     "metadata": {},
     "output_type": "execute_result"
    }
   ],
   "source": [
    "\n",
    "gs.best_params_\n"
   ]
  },
  {
   "cell_type": "markdown",
   "metadata": {},
   "source": [
    "Thử lại các tham số tốt nhất với class decision tree của sklearn:"
   ]
  },
  {
   "cell_type": "code",
   "execution_count": 29,
   "metadata": {
    "collapsed": true,
    "jupyter": {
     "outputs_hidden": true
    }
   },
   "outputs": [
    {
     "data": {
      "text/plain": [
       "0.3600891861761427"
      ]
     },
     "execution_count": 29,
     "metadata": {},
     "output_type": "execute_result"
    }
   ],
   "source": [
    "dt.get_params()\n",
    "param_new = {'criterion': 'entropy', 'splitter': 'best', 'min_samples_leaf': 10}\n",
    "dt_new = DecisionTreeClassifier().set_params(**param_new)\n",
    "dt_new.fit(x_train,y_train)\n",
    "dt_new.score(x_test,y_test)"
   ]
  },
  {
   "cell_type": "markdown",
   "metadata": {},
   "source": [
    "Support Vector Machines\n",
    "Tương tự như KNN và Decision Tree, xây dựng bộ phân loại sử dụng SVM:"
   ]
  },
  {
   "cell_type": "code",
   "execution_count": 16,
   "metadata": {
    "collapsed": false,
    "jupyter": {
     "outputs_hidden": false
    }
   },
   "outputs": [
    {
     "name": "stdout",
     "output_type": "stream",
     "text": [
      "SVC(C=20, cache_size=200, class_weight=None, coef0=0.0,\n",
      "  decision_function_shape=None, degree=3, gamma='auto', kernel='rbf',\n",
      "  max_iter=-1, probability=False, random_state=None, shrinking=True,\n",
      "  tol=0.001, verbose=False)\n",
      "0.9512263099219621\n",
      "0.693422519509476\n"
     ]
    }
   ],
   "source": [
    "\n",
    "svm = SVC(C = 20)\n",
    "#C = phạt cho điểm data phân loại sai \n",
    "print(svm)\n",
    "\n",
    "svm.fit(x_train, y_train)\n",
    "print(svm.score(x_train, y_train))\n",
    "print(svm.score(x_test, y_test))\n",
    "\n"
   ]
  },
  {
   "cell_type": "markdown",
   "metadata": {},
   "source": [
    "Sử dụng GridSearchCV, tìm kiếm các hyper parameter:"
   ]
  },
  {
   "cell_type": "code",
   "execution_count": 17,
   "metadata": {
    "collapsed": false,
    "jupyter": {
     "outputs_hidden": false
    }
   },
   "outputs": [
    {
     "name": "stdout",
     "output_type": "stream",
     "text": [
      "GridSearchCV(cv=4, error_score='raise',\n",
      "       estimator=SVC(C=1.0, cache_size=200, class_weight=None, coef0=0.0,\n",
      "  decision_function_shape=None, degree=3, gamma='auto', kernel='rbf',\n",
      "  max_iter=-1, probability=False, random_state=None, shrinking=True,\n",
      "  tol=0.001, verbose=False),\n",
      "       fit_params={}, iid=True, n_jobs=4,\n",
      "       param_grid={'kernel': ['poly', 'rbf', 'sigmoid'], 'C': [0.5, 1, 5, 20, 100, 500]},\n",
      "       pre_dispatch='2*n_jobs', refit=True, return_train_score=True,\n",
      "       scoring=None, verbose=0)\n"
     ]
    },
    {
     "data": {
      "text/plain": [
       "0.705685618729097"
      ]
     },
     "execution_count": 17,
     "metadata": {},
     "output_type": "execute_result"
    }
   ],
   "source": [
    "#### YOUR CODE HERE ####\n",
    "svm = SVC()\n",
    "param = {'C': [0.5, 1, 5, 20, 100, 500], 'kernel': ['poly', 'rbf', 'sigmoid']}\n",
    "\n",
    "gs = GridSearchCV(estimator=svm, param_grid=param, cv=4, n_jobs=4)\n",
    "print(gs)\n",
    "\n",
    "gs.fit(x_train, y_train)\n",
    "gs.score(x_test, y_test)\n",
    "#### END YOUR CODE #####"
   ]
  },
  {
   "cell_type": "markdown",
   "metadata": {},
   "source": [
    "Tham số tốt nhất của mô hình:"
   ]
  },
  {
   "cell_type": "code",
   "execution_count": 18,
   "metadata": {
    "collapsed": false,
    "jupyter": {
     "outputs_hidden": false
    }
   },
   "outputs": [
    {
     "data": {
      "text/plain": [
       "{'C': 5, 'kernel': 'rbf'}"
      ]
     },
     "execution_count": 18,
     "metadata": {},
     "output_type": "execute_result"
    }
   ],
   "source": [
    "#### YOUR CODE HERE ####\n",
    "gs.best_params_\n",
    "#### END YOUR CODE #####"
   ]
  },
  {
   "cell_type": "markdown",
   "metadata": {},
   "source": [
    "Thử lại các tham số tốt nhất với class SVM của sklearn:"
   ]
  },
  {
   "cell_type": "code",
   "execution_count": 19,
   "metadata": {
    "collapsed": true,
    "jupyter": {
     "outputs_hidden": true
    }
   },
   "outputs": [],
   "source": [
    "#### YOUR CODE HERE ####\n",
    "\n",
    "#### END YOUR CODE #####"
   ]
  }
 ],
 "metadata": {
  "kernelspec": {
   "display_name": "liscense_plate",
   "language": "python",
   "name": "python3"
  },
  "language_info": {
   "codemirror_mode": {
    "name": "ipython",
    "version": 3
   },
   "file_extension": ".py",
   "mimetype": "text/x-python",
   "name": "python",
   "nbconvert_exporter": "python",
   "pygments_lexer": "ipython3",
   "version": "3.9.13"
  }
 },
 "nbformat": 4,
 "nbformat_minor": 4
}
